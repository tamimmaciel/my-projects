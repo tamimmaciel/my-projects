{
  "nbformat": 4,
  "nbformat_minor": 0,
  "metadata": {
    "colab": {
      "provenance": [],
      "authorship_tag": "ABX9TyPHvmr0BlKf+tlpfPcOkUU4"
    },
    "kernelspec": {
      "name": "python3",
      "display_name": "Python 3"
    },
    "language_info": {
      "name": "python"
    }
  },
  "cells": [
    {
      "cell_type": "code",
      "execution_count": null,
      "metadata": {
        "id": "wwdWMw0kxWR-"
      },
      "outputs": [],
      "source": [
        "valorHamburguer = float(input(\"Informe o valor do hamburguer: R$ \"))\n",
        "quantidadeHamburguer = int(input(\"Informe quantidade de hamburguer: \"))\n",
        "valorBebida = float(input(\"Informe o valor da bebida: R$ \"))\n",
        "quantidadeBebida = int(input(\"Informe quantidade de bebida: \"))\n",
        "valorPago = float(input(\"\\nInforme o valor de pagamento: R$ \"))\n",
        "\n",
        "totalBebidas = valorBebida * quantidadeBebida\n",
        "\n",
        "totalHamburguer = valorHamburguer * quantidadeHamburguer\n",
        "\n",
        "totalConsumo = totalBebidas + totalHamburguer\n",
        "\n",
        "if valorPago > totalConsumo:\n",
        "  troco = valorPago - totalConsumo\n",
        "  print(f\"O preço final do pedido é R$ {totalConsumo:.2f}. Seu troco é R$ {troco:.2f}.\")\n",
        "else:\n",
        "  print(f\"O preço final do pedido é R$ {totalConsumo:.2f}.\")"
      ]
    }
  ]
}