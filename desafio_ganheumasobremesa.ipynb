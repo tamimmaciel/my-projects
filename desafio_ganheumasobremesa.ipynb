{
  "nbformat": 4,
  "nbformat_minor": 0,
  "metadata": {
    "colab": {
      "provenance": [],
      "authorship_tag": "ABX9TyPdf3JkVZA2zcjZ8fkhTE3E"
    },
    "kernelspec": {
      "name": "python3",
      "display_name": "Python 3"
    },
    "language_info": {
      "name": "python"
    }
  },
  "cells": [
    {
      "cell_type": "code",
      "execution_count": 2,
      "metadata": {
        "colab": {
          "base_uri": "https://localhost:8080/"
        },
        "id": "bw4D_s5w71kd",
        "outputId": "c5be06fe-dac0-4734-8ca6-e80f4c28bae4"
      },
      "outputs": [
        {
          "output_type": "stream",
          "name": "stdout",
          "text": [
            "30\n",
            "Que pena, você nao ganhou nenhum brinde especial.\n"
          ]
        }
      ],
      "source": [
        "valorPedido = int(input())\n",
        "valorbrinde = 50\n",
        "\n",
        "if valorPedido >= valorbrinde:\n",
        "    print(\"Parabens, você ganhou uma sobremesa gratis!\")\n",
        "\n",
        "else:\n",
        "  print(\"Que pena, você nao ganhou nenhum brinde especial.\")\n",
        "\n"
      ]
    }
  ]
}