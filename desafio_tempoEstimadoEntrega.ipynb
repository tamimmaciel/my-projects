{
  "nbformat": 4,
  "nbformat_minor": 0,
  "metadata": {
    "colab": {
      "provenance": [],
      "authorship_tag": "ABX9TyPTIT/eLnV9aFcZHcvErw0c"
    },
    "kernelspec": {
      "name": "python3",
      "display_name": "Python 3"
    },
    "language_info": {
      "name": "python"
    }
  },
  "cells": [
    {
      "cell_type": "code",
      "execution_count": null,
      "metadata": {
        "colab": {
          "base_uri": "https://localhost:8080/"
        },
        "id": "H0xmlS5-DXE2",
        "outputId": "76412552-02b7-4e96-801d-39a091b98a3f"
      },
      "outputs": [
        {
          "output_type": "stream",
          "name": "stdout",
          "text": [
            "KFC\n",
            "25\n",
            "O restaurante KFC entrega em 25 minutos.\n"
          ]
        }
      ],
      "source": [
        "nomeRestaurante = input()\n",
        "tempoEstimadoEntrega = int(input())\n",
        "print(f\"O restaurante {nomeRestaurante} entrega em {tempoEstimadoEntrega} minutos.\")\n",
        "\n",
        "\n",
        "\n",
        "\n",
        "# TODO: Imprimir a saída no padrão definido no enunciado deste desafio.\n",
        "# Dica: Para simplificar a formatação, utilize o conceito de interpolação de strings.\n",
        "\n"
      ]
    }
  ]
}