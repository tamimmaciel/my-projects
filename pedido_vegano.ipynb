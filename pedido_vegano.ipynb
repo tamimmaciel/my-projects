{
  "nbformat": 4,
  "nbformat_minor": 0,
  "metadata": {
    "colab": {
      "provenance": [],
      "authorship_tag": "ABX9TyNTZ13yX8boz7oMQEz4Xhjr"
    },
    "kernelspec": {
      "name": "python3",
      "display_name": "Python 3"
    },
    "language_info": {
      "name": "python"
    }
  },
  "cells": [
    {
      "cell_type": "code",
      "execution_count": null,
      "metadata": {
        "id": "apL2MyKZQfCm"
      },
      "outputs": [],
      "source": [
        "numPedidos = int(input())\n",
        "pedidos = []\n",
        "\n",
        "for i in range(1, numPedidos + 1):\n",
        "    prato = input()\n",
        "    calorias = int(input())\n",
        "    ehVegano = input()\n",
        "\n",
        "    if ehVegano == \"n\":\n",
        "        ehVegano = \"Nao-vegano\"\n",
        "    elif ehVegano == \"s\":\n",
        "        ehVegano = \"Vegano\"\n",
        "\n",
        "    pedidos.append((i, prato, ehVegano, calorias))\n",
        "\n",
        "for pedido in pedidos:\n",
        "    i, prato, ehVegano, calorias = pedido\n",
        "    print(f\"Pedido {i}: {prato} ({ehVegano}) - {calorias} calorias\")"
      ]
    }
  ]
}