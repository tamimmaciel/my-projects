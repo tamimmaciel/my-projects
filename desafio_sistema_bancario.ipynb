{
  "nbformat": 4,
  "nbformat_minor": 0,
  "metadata": {
    "colab": {
      "provenance": [],
      "authorship_tag": "ABX9TyO+RZd157YEMz2XSUwLvsq3",
      "include_colab_link": true
    },
    "kernelspec": {
      "name": "python3",
      "display_name": "Python 3"
    },
    "language_info": {
      "name": "python"
    }
  },
  "cells": [
    {
      "cell_type": "markdown",
      "metadata": {
        "id": "view-in-github",
        "colab_type": "text"
      },
      "source": [
        "<a href=\"https://colab.research.google.com/github/tamimmaciel/my-projects/blob/main/desafio_sistema_bancario.ipynb\" target=\"_parent\"><img src=\"https://colab.research.google.com/assets/colab-badge.svg\" alt=\"Open In Colab\"/></a>"
      ]
    },
    {
      "cell_type": "code",
      "execution_count": null,
      "metadata": {
        "id": "zGXdiFQ_4CSo"
      },
      "outputs": [],
      "source": [
        "menu = '''\n",
        "\n",
        "[1] Depositar\n",
        "[2] Sacar\n",
        "[3] Extrato\n",
        "[4] Saldo\n",
        "[0] Sair\n",
        "\n",
        "'''\n",
        "\n",
        "saldo = 0\n",
        "limite = 500\n",
        "extrato = \"\"\n",
        "numeros_saques = 0\n",
        "LIMITES_SAQUES = 3\n",
        "\n",
        "while True:\n",
        "\n",
        "  opcao = input(menu)\n",
        "\n",
        "  if opcao == \"1\":\n",
        "    print(\"Depósito\".center(50,\"-\"))\n",
        "    print()\n",
        "    valor = float(input(\"Informe o valor do depósito: R$ \"))\n",
        "\n",
        "    if valor > 0:\n",
        "      saldo += valor\n",
        "      extrato += f\"Depósito: R${valor: .2f}\\n\"\n",
        "      print(f\"Deposito R${valor: .2f} realizado com sucesso!\")\n",
        "    else:\n",
        "      print(\"Operação falhou! O valor informado é inválido.\")\n",
        "\n",
        "\n",
        "  elif opcao == \"2\":\n",
        "    print(\"Sacar\".center(50,\"-\"))\n",
        "    print()\n",
        "    saque = float(input(\"Informe o valor do saque: R$ \"))\n",
        "\n",
        "    if saque <= saldo:\n",
        "\n",
        "      if numeros_saques < LIMITES_SAQUES:\n",
        "\n",
        "        if saque <= limite:\n",
        "          saldo -= saque\n",
        "          numeros_saques += 1\n",
        "          extrato += f\"Saque: R${saque: .2f}\\n\"\n",
        "          print(f\"Saque R${saque: .2f} realizado com sucesso!\")\n",
        "        else:\n",
        "          print(\"Operação falhou! Limite de valor por saque atingido!\")\n",
        "\n",
        "      else:\n",
        "        print(\"Operação falhou! Limite de saque diário atingido!\")\n",
        "\n",
        "    else:\n",
        "      print(\"Operação falhou! Saldo insuficiente!\")\n",
        "\n",
        "\n",
        "\n",
        "\n",
        "  elif opcao == \"3\":\n",
        "    print(\"Extrato\".center(100,\"=\"))\n",
        "    print(\"Não foram realizadas movimentações.\" if not extrato else extrato)\n",
        "    print(f\"Seu saldo: R${saldo: .2f}\")\n",
        "    print(\"=\".center(100,\"=\"))\n",
        "\n",
        "  elif opcao == \"4\":\n",
        "    print(\"Saldo\".center(50,\"-\"))\n",
        "    print()\n",
        "    print(f\"Seu saldo: R${saldo: .2f}\")\n",
        "\n",
        "  elif opcao == \"0\":\n",
        "    print(\"Obrigado por utilizar nosso sistema!\\n\")\n",
        "    break\n",
        "\n",
        "  else:\n",
        "    print(\"Operação inválida, por favor selecionar novamente a operação desejada.\")"
      ]
    }
  ]
}