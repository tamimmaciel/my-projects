{
  "nbformat": 4,
  "nbformat_minor": 0,
  "metadata": {
    "colab": {
      "provenance": [],
      "authorship_tag": "ABX9TyPIJduQAe+MVPvXkV+epbUd"
    },
    "kernelspec": {
      "name": "python3",
      "display_name": "Python 3"
    },
    "language_info": {
      "name": "python"
    }
  },
  "cells": [
    {
      "cell_type": "code",
      "execution_count": 3,
      "metadata": {
        "colab": {
          "base_uri": "https://localhost:8080/"
        },
        "id": "iRlK2OF1Req_",
        "outputId": "1245d567-0a87-47ec-c016-a74d19fd675a"
      },
      "outputs": [
        {
          "output_type": "stream",
          "name": "stdout",
          "text": [
            "4\n",
            "Pizza 19.99\n",
            "Salada 29.99\n",
            "Sushi 61.00\n",
            "Pudim 10.00\n",
            "20%\n",
            "Valor total: 96.78\n"
          ]
        }
      ],
      "source": [
        "def main():\n",
        "    n = int(input())\n",
        "\n",
        "    total = 0\n",
        "\n",
        "    for i in range(1, n + 1):\n",
        "        pedido = input().split(\" \")\n",
        "        nome = pedido[0]\n",
        "        valor = float(pedido[1])\n",
        "        total += valor\n",
        "\n",
        "    # Solicitar o cupom de desconto ao usuário\n",
        "    cupom = input()\n",
        "\n",
        "    # Aplicar o desconto com base no cupom fornecido\n",
        "    if cupom == \"10%\":\n",
        "        total -= total * 0.10\n",
        "    elif cupom == \"20%\":\n",
        "        total -= total * 0.20\n",
        "\n",
        "    # Exibir o valor total após aplicar o desconto\n",
        "    print(f\"Valor total: {total:.2f}\")\n",
        "\n",
        "if __name__ == \"__main__\":\n",
        "    main()"
      ]
    }
  ]
}